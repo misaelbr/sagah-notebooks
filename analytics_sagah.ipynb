{
 "cells": [
  {
   "cell_type": "markdown",
   "metadata": {},
   "source": [
    "# Sagah Tools\n",
    "Esse notebook realiza checkagem de dados entre um dataset interno e um dataset da aplicação. O objetivo é verificar a paridade de dados entre os dois sistemas."
   ]
  },
  {
   "cell_type": "markdown",
   "metadata": {},
   "source": [
    "### Importação de bibliotecas"
   ]
  },
  {
   "cell_type": "code",
   "execution_count": null,
   "metadata": {},
   "outputs": [],
   "source": [
    "import pandas as pd"
   ]
  },
  {
   "cell_type": "markdown",
   "metadata": {},
   "source": [
    "### Carrega os datasets em dataframes\n",
    "O arquivo excel é um relatório extraído do nosso sistema acadêmico, enquanto o arquivo CSV é um relatório extraído da Sagah."
   ]
  },
  {
   "cell_type": "code",
   "execution_count": null,
   "metadata": {},
   "outputs": [],
   "source": [
    "unisc = pd.read_excel('datasets/sagah_2024_1_ajustes.xlsx')\n",
    "sagah_csv = pd.read_csv('datasets/turmas_online_2024-1.csv', delimiter=';')\n",
    "unisc['nome_moodle'] = unisc['nome_moodle'].str.strip()\n",
    "unisc['professor'] = unisc['professor'].str.strip()\n",
    "unisc['email'] = unisc['email'].str.strip()"
   ]
  },
  {
   "cell_type": "markdown",
   "metadata": {},
   "source": [
    "### Remove as linhas duplicadas\n",
    "Quando configuradas as UAs (unidades de aprendizagem) no Catálogo, há uma duplicação de linhas contendo o nome da disciplina e o professor, únicos objetos de interesse neste trabalho. Portanto, é necessário remover as linhas duplicadas. "
   ]
  },
  {
   "cell_type": "code",
   "execution_count": null,
   "metadata": {},
   "outputs": [],
   "source": [
    "sagah = sagah_csv[['Curso', 'Disciplina', 'Situação', 'Coordenador(a)']].drop_duplicates()"
   ]
  },
  {
   "cell_type": "markdown",
   "metadata": {},
   "source": [
    "### Verificação de disciplinas na Sagah\n",
    "Como podem ocorrer lançamentos no nosso sistema acadêmico, ainda, após a exportação dos dados, é necessário realizar uma conferência para verificar se todas as disciplinas estão presentes em ambos datasets."
   ]
  },
  {
   "cell_type": "code",
   "execution_count": null,
   "metadata": {},
   "outputs": [],
   "source": [
    "itens_unisc_nao_sagah = unisc[~unisc['nome_moodle'].isin(sagah['Disciplina'])]['nome_moodle'].tolist()\n",
    "itens_unisc_nao_sagah"
   ]
  },
  {
   "cell_type": "markdown",
   "metadata": {},
   "source": [
    "### Verificação de associação de professores em disciplinas\n",
    "Utilizando uma chave composta (nome da disciplina e nome do professor), verifica a paridade de informação entre os datasets."
   ]
  },
  {
   "cell_type": "code",
   "execution_count": null,
   "metadata": {},
   "outputs": [],
   "source": [
    "unisc_not_in_sagah = unisc[~unisc.set_index(['nome_moodle', 'professor']).index.isin(sagah.set_index(['Disciplina', 'Coordenador(a)']).index)]\n",
    "unisc_dict = unisc_not_in_sagah[['nome_moodle', 'professor']].to_dict(orient='records')\n",
    "\n",
    "unisc_dict = {item['nome_moodle']: item['professor'] for item in unisc_dict}\n",
    "unisc_dict\n",
    "\n",
    "for disciplina,professor in unisc_dict.items():\n",
    "    print(f'{disciplina} - {professor}')\n",
    "        "
   ]
  },
  {
   "cell_type": "markdown",
   "metadata": {},
   "source": [
    "### Contabilização de diferenças\n",
    "Após a verificação dos dados, realiza a contabilização das diferenças entre os datasets. Primeiro, indica quantas disciplinas aindas estão se professor. Depois, os professores indicados no sistema acadêmico mas que não estão associados na Sagah."
   ]
  },
  {
   "cell_type": "code",
   "execution_count": null,
   "metadata": {},
   "outputs": [],
   "source": [
    "count = sum(value == 'Sem professor' for value in unisc_dict.values())\n",
    "print(f\"Disciplinas sem professor: {count}\")\n",
    "count = sum(value != 'Sem professor' for value in unisc_dict.values())\n",
    "print(f'Disciplinas com professor diferente na Sagah: {count}')\n",
    "\n"
   ]
  }
 ],
 "metadata": {
  "kernelspec": {
   "display_name": "Python 3",
   "language": "python",
   "name": "python3"
  },
  "language_info": {
   "codemirror_mode": {
    "name": "ipython",
    "version": 3
   },
   "file_extension": ".py",
   "mimetype": "text/x-python",
   "name": "python",
   "nbconvert_exporter": "python",
   "pygments_lexer": "ipython3",
   "version": "3.11.7"
  }
 },
 "nbformat": 4,
 "nbformat_minor": 2
}
